{
 "cells": [
  {
   "cell_type": "markdown",
   "id": "67810776",
   "metadata": {},
   "source": [
    "# Some initial data exploratory for the hw2 data"
   ]
  },
  {
   "cell_type": "code",
   "execution_count": 1,
   "id": "ee617c2e",
   "metadata": {},
   "outputs": [
    {
     "data": {
      "text/plain": [
       "<Figure size 432x288 with 0 Axes>"
      ]
     },
     "metadata": {},
     "output_type": "display_data"
    }
   ],
   "source": [
    "import numpy as np\n",
    "import matplotlib.pyplot as plt\n",
    "plt.gray()"
   ]
  },
  {
   "cell_type": "code",
   "execution_count": 2,
   "id": "85961bc6",
   "metadata": {},
   "outputs": [
    {
     "name": "stdout",
     "output_type": "stream",
     "text": [
      "<numpy.lib.npyio.NpzFile object at 0x7f33aaaef400>\n",
      "npz_data files: ['Xtrain', 'ytrain', 'Xdev', 'ydev', 'Xtest', 'ytest']\n",
      "npz_data[Xtrain] shape: (50000, 784)\n",
      "First trainingexample shape: (784,)\n",
      "First trainingexample (is a vector here):\n",
      " [0.         0.         0.         0.         0.         0.\n",
      " 0.         0.         0.         0.         0.         0.\n",
      " 0.         0.         0.         0.         0.         0.\n",
      " 0.         0.         0.         0.         0.         0.\n",
      " 0.         0.         0.         0.         0.         0.\n",
      " 0.         0.         0.         0.         0.         0.\n",
      " 0.         0.         0.         0.         0.         0.\n",
      " 0.         0.         0.         0.         0.         0.\n",
      " 0.         0.         0.         0.         0.         0.\n",
      " 0.         0.         0.         0.         0.         0.\n",
      " 0.         0.         0.         0.         0.         0.\n",
      " 0.         0.         0.         0.         0.         0.\n",
      " 0.         0.         0.         0.         0.         0.\n",
      " 0.         0.         0.         0.         0.         0.\n",
      " 0.         0.         0.         0.         0.         0.\n",
      " 0.         0.         0.         0.         0.         0.\n",
      " 0.         0.         0.         0.         0.         0.\n",
      " 0.         0.         0.         0.         0.         0.\n",
      " 0.         0.         0.         0.         0.         0.\n",
      " 0.         0.         0.00390625 0.03515625 0.         0.\n",
      " 0.         0.         0.         0.         0.         0.\n",
      " 0.         0.         0.         0.         0.         0.\n",
      " 0.         0.         0.         0.         0.         0.\n",
      " 0.         0.         0.         0.         0.         0.22265625\n",
      " 0.80859375 0.94140625 0.375      0.         0.         0.\n",
      " 0.         0.         0.         0.         0.         0.\n",
      " 0.         0.         0.         0.         0.         0.\n",
      " 0.         0.         0.         0.         0.         0.\n",
      " 0.         0.         0.         0.53125    0.99609375 0.99609375\n",
      " 0.62890625 0.         0.         0.         0.         0.\n",
      " 0.         0.         0.         0.         0.         0.\n",
      " 0.         0.         0.         0.         0.         0.0390625\n",
      " 0.265625   0.390625   0.04296875 0.         0.28125    0.390625\n",
      " 0.46484375 0.53125    0.99609375 0.6796875  0.08203125 0.\n",
      " 0.         0.         0.         0.         0.         0.\n",
      " 0.         0.         0.         0.         0.         0.\n",
      " 0.         0.         0.09765625 0.828125   0.99609375 0.99609375\n",
      " 0.82421875 0.2890625  0.68359375 0.99609375 0.99609375 0.99609375\n",
      " 0.94140625 0.26171875 0.         0.         0.         0.\n",
      " 0.         0.         0.         0.         0.         0.\n",
      " 0.         0.         0.         0.         0.         0.22265625\n",
      " 0.828125   0.99609375 0.99609375 0.99609375 0.99609375 0.921875\n",
      " 0.3515625  0.578125   0.421875   0.78125    0.984375   0.87890625\n",
      " 0.51953125 0.23828125 0.0859375  0.         0.         0.\n",
      " 0.         0.         0.         0.         0.         0.\n",
      " 0.         0.078125   0.484375   0.95703125 0.99609375 0.99609375\n",
      " 0.99609375 0.99609375 0.98828125 0.71484375 0.         0.\n",
      " 0.         0.02734375 0.2109375  0.5625     0.83203125 0.9921875\n",
      " 0.91796875 0.4296875  0.04296875 0.         0.         0.\n",
      " 0.         0.         0.00390625 0.15234375 0.58984375 0.9375\n",
      " 0.9921875  0.99609375 0.9921875  0.9453125  0.8671875  0.53515625\n",
      " 0.22265625 0.04296875 0.         0.         0.         0.\n",
      " 0.         0.         0.0546875  0.4296875  0.91015625 0.99609375\n",
      " 0.83984375 0.25390625 0.         0.         0.00390625 0.24609375\n",
      " 0.578125   0.953125   0.99609375 0.91015625 0.70703125 0.42578125\n",
      " 0.2265625  0.0703125  0.0078125  0.         0.         0.\n",
      " 0.         0.         0.         0.         0.         0.\n",
      " 0.         0.         0.09765625 0.75390625 0.99609375 0.96484375\n",
      " 0.62890625 0.58203125 0.80859375 0.98046875 0.71875    0.39453125\n",
      " 0.18359375 0.02734375 0.00390625 0.         0.         0.\n",
      " 0.         0.         0.         0.         0.         0.\n",
      " 0.         0.         0.         0.         0.         0.\n",
      " 0.         0.05859375 0.7421875  0.99609375 0.99609375 0.99609375\n",
      " 0.99609375 0.671875   0.0390625  0.         0.         0.\n",
      " 0.         0.         0.         0.         0.         0.\n",
      " 0.         0.         0.         0.         0.         0.\n",
      " 0.         0.         0.         0.         0.         0.0703125\n",
      " 0.73046875 0.9921875  0.99609375 0.99609375 0.99609375 0.3125\n",
      " 0.         0.         0.         0.         0.         0.\n",
      " 0.         0.         0.         0.         0.         0.\n",
      " 0.         0.         0.         0.         0.         0.\n",
      " 0.         0.         0.         0.4609375  0.9921875  0.92578125\n",
      " 0.9765625  0.99609375 0.8515625  0.10546875 0.         0.\n",
      " 0.         0.         0.         0.         0.         0.\n",
      " 0.         0.         0.         0.         0.         0.\n",
      " 0.         0.         0.         0.         0.         0.\n",
      " 0.00390625 0.703125   0.99609375 0.99609375 0.98828125 0.99609375\n",
      " 0.546875   0.         0.         0.         0.         0.\n",
      " 0.         0.         0.         0.         0.         0.\n",
      " 0.         0.         0.         0.         0.         0.\n",
      " 0.         0.         0.         0.         0.015625   0.84375\n",
      " 0.99609375 0.99609375 0.99609375 0.86328125 0.078125   0.\n",
      " 0.         0.         0.         0.         0.         0.\n",
      " 0.         0.         0.         0.         0.         0.\n",
      " 0.         0.         0.         0.         0.         0.\n",
      " 0.         0.         0.00390625 0.703125   0.99609375 0.99609375\n",
      " 0.99609375 0.625      0.         0.         0.         0.\n",
      " 0.         0.         0.         0.         0.         0.\n",
      " 0.         0.         0.         0.         0.         0.\n",
      " 0.         0.         0.         0.         0.         0.\n",
      " 0.         0.2578125  0.96875    0.99609375 0.99609375 0.94921875\n",
      " 0.80078125 0.68359375 0.6015625  0.53515625 0.26953125 0.00390625\n",
      " 0.         0.         0.         0.         0.         0.\n",
      " 0.         0.         0.         0.         0.         0.\n",
      " 0.         0.         0.         0.         0.         0.01171875\n",
      " 0.7265625  0.99609375 0.99609375 0.99609375 0.99609375 0.99609375\n",
      " 0.99609375 0.99609375 0.98046875 0.43359375 0.         0.\n",
      " 0.         0.         0.         0.         0.         0.\n",
      " 0.         0.         0.         0.         0.         0.\n",
      " 0.         0.         0.         0.         0.05078125 0.5234375\n",
      " 0.94140625 0.99609375 0.99609375 0.99609375 0.99609375 0.99609375\n",
      " 0.99609375 0.81640625 0.01953125 0.         0.         0.\n",
      " 0.         0.         0.         0.         0.         0.\n",
      " 0.         0.         0.         0.         0.         0.\n",
      " 0.         0.         0.         0.         0.14453125 0.5\n",
      " 0.71875    0.828125   0.8671875  0.953125   0.95703125 0.47265625\n",
      " 0.         0.         0.         0.         0.         0.\n",
      " 0.         0.         0.         0.         0.         0.\n",
      " 0.         0.         0.         0.         0.         0.\n",
      " 0.         0.         0.         0.         0.         0.\n",
      " 0.         0.         0.         0.         0.         0.\n",
      " 0.         0.         0.         0.         0.         0.\n",
      " 0.         0.         0.         0.         0.         0.\n",
      " 0.         0.         0.         0.         0.         0.\n",
      " 0.         0.         0.         0.         0.         0.\n",
      " 0.         0.         0.         0.         0.         0.\n",
      " 0.         0.         0.         0.         0.         0.\n",
      " 0.         0.         0.         0.         0.         0.\n",
      " 0.         0.         0.         0.         0.         0.\n",
      " 0.         0.         0.         0.         0.         0.\n",
      " 0.         0.         0.         0.         0.         0.\n",
      " 0.         0.         0.         0.         0.         0.\n",
      " 0.         0.         0.         0.         0.         0.\n",
      " 0.         0.         0.         0.         0.         0.\n",
      " 0.         0.         0.         0.         0.         0.\n",
      " 0.         0.         0.         0.         0.         0.\n",
      " 0.         0.         0.         0.         0.         0.\n",
      " 0.         0.         0.         0.         0.         0.\n",
      " 0.         0.         0.         0.         0.         0.\n",
      " 0.         0.         0.         0.         0.         0.\n",
      " 0.         0.         0.         0.        ]\n",
      "First training label: 9\n"
     ]
    }
   ],
   "source": [
    "# unpack and look at files in npz_data\n",
    "npz_data = np.load('Kuzushiji-MNIST.npz')\n",
    "print(npz_data)\n",
    "print('npz_data files:', npz_data.files)\n",
    "print('npz_data[Xtrain] shape:', npz_data['Xtrain'].shape)\n",
    "print('First trainingexample shape:', npz_data['Xtrain'][0].shape)\n",
    "print('First trainingexample (is a vector here):\\n', npz_data['Xtrain'][0])\n",
    "print('First training label:', npz_data['ytrain'][0])"
   ]
  },
  {
   "cell_type": "code",
   "execution_count": 3,
   "id": "0633e8bc",
   "metadata": {},
   "outputs": [
    {
     "data": {
      "text/plain": [
       "array([[0.        , 0.        , 0.        , 0.        , 0.        ,\n",
       "        0.        , 0.        , 0.        , 0.        , 0.        ,\n",
       "        0.        , 0.        , 0.        , 0.        , 0.        ,\n",
       "        0.        , 0.        , 0.        , 0.        , 0.        ,\n",
       "        0.        , 0.        , 0.        , 0.        , 0.        ,\n",
       "        0.        , 0.        , 0.        ],\n",
       "       [0.        , 0.        , 0.        , 0.        , 0.        ,\n",
       "        0.        , 0.        , 0.        , 0.        , 0.        ,\n",
       "        0.        , 0.        , 0.        , 0.        , 0.        ,\n",
       "        0.        , 0.        , 0.        , 0.        , 0.        ,\n",
       "        0.        , 0.        , 0.        , 0.        , 0.        ,\n",
       "        0.        , 0.        , 0.        ],\n",
       "       [0.        , 0.        , 0.        , 0.        , 0.        ,\n",
       "        0.        , 0.        , 0.        , 0.        , 0.        ,\n",
       "        0.        , 0.        , 0.        , 0.        , 0.        ,\n",
       "        0.        , 0.        , 0.        , 0.        , 0.        ,\n",
       "        0.        , 0.        , 0.        , 0.        , 0.        ,\n",
       "        0.        , 0.        , 0.        ],\n",
       "       [0.        , 0.        , 0.        , 0.        , 0.        ,\n",
       "        0.        , 0.        , 0.        , 0.        , 0.        ,\n",
       "        0.        , 0.        , 0.        , 0.        , 0.        ,\n",
       "        0.        , 0.        , 0.        , 0.        , 0.        ,\n",
       "        0.        , 0.        , 0.        , 0.        , 0.        ,\n",
       "        0.        , 0.        , 0.        ],\n",
       "       [0.        , 0.        , 0.        , 0.        , 0.00390625,\n",
       "        0.03515625, 0.        , 0.        , 0.        , 0.        ,\n",
       "        0.        , 0.        , 0.        , 0.        , 0.        ,\n",
       "        0.        , 0.        , 0.        , 0.        , 0.        ,\n",
       "        0.        , 0.        , 0.        , 0.        , 0.        ,\n",
       "        0.        , 0.        , 0.        ],\n",
       "       [0.        , 0.        , 0.        , 0.22265625, 0.80859375,\n",
       "        0.94140625, 0.375     , 0.        , 0.        , 0.        ,\n",
       "        0.        , 0.        , 0.        , 0.        , 0.        ,\n",
       "        0.        , 0.        , 0.        , 0.        , 0.        ,\n",
       "        0.        , 0.        , 0.        , 0.        , 0.        ,\n",
       "        0.        , 0.        , 0.        ],\n",
       "       [0.        , 0.        , 0.        , 0.53125   , 0.99609375,\n",
       "        0.99609375, 0.62890625, 0.        , 0.        , 0.        ,\n",
       "        0.        , 0.        , 0.        , 0.        , 0.        ,\n",
       "        0.        , 0.        , 0.        , 0.        , 0.        ,\n",
       "        0.        , 0.        , 0.        , 0.0390625 , 0.265625  ,\n",
       "        0.390625  , 0.04296875, 0.        ],\n",
       "       [0.28125   , 0.390625  , 0.46484375, 0.53125   , 0.99609375,\n",
       "        0.6796875 , 0.08203125, 0.        , 0.        , 0.        ,\n",
       "        0.        , 0.        , 0.        , 0.        , 0.        ,\n",
       "        0.        , 0.        , 0.        , 0.        , 0.        ,\n",
       "        0.        , 0.        , 0.09765625, 0.828125  , 0.99609375,\n",
       "        0.99609375, 0.82421875, 0.2890625 ],\n",
       "       [0.68359375, 0.99609375, 0.99609375, 0.99609375, 0.94140625,\n",
       "        0.26171875, 0.        , 0.        , 0.        , 0.        ,\n",
       "        0.        , 0.        , 0.        , 0.        , 0.        ,\n",
       "        0.        , 0.        , 0.        , 0.        , 0.        ,\n",
       "        0.        , 0.22265625, 0.828125  , 0.99609375, 0.99609375,\n",
       "        0.99609375, 0.99609375, 0.921875  ],\n",
       "       [0.3515625 , 0.578125  , 0.421875  , 0.78125   , 0.984375  ,\n",
       "        0.87890625, 0.51953125, 0.23828125, 0.0859375 , 0.        ,\n",
       "        0.        , 0.        , 0.        , 0.        , 0.        ,\n",
       "        0.        , 0.        , 0.        , 0.        , 0.078125  ,\n",
       "        0.484375  , 0.95703125, 0.99609375, 0.99609375, 0.99609375,\n",
       "        0.99609375, 0.98828125, 0.71484375],\n",
       "       [0.        , 0.        , 0.        , 0.02734375, 0.2109375 ,\n",
       "        0.5625    , 0.83203125, 0.9921875 , 0.91796875, 0.4296875 ,\n",
       "        0.04296875, 0.        , 0.        , 0.        , 0.        ,\n",
       "        0.        , 0.00390625, 0.15234375, 0.58984375, 0.9375    ,\n",
       "        0.9921875 , 0.99609375, 0.9921875 , 0.9453125 , 0.8671875 ,\n",
       "        0.53515625, 0.22265625, 0.04296875],\n",
       "       [0.        , 0.        , 0.        , 0.        , 0.        ,\n",
       "        0.        , 0.0546875 , 0.4296875 , 0.91015625, 0.99609375,\n",
       "        0.83984375, 0.25390625, 0.        , 0.        , 0.00390625,\n",
       "        0.24609375, 0.578125  , 0.953125  , 0.99609375, 0.91015625,\n",
       "        0.70703125, 0.42578125, 0.2265625 , 0.0703125 , 0.0078125 ,\n",
       "        0.        , 0.        , 0.        ],\n",
       "       [0.        , 0.        , 0.        , 0.        , 0.        ,\n",
       "        0.        , 0.        , 0.        , 0.09765625, 0.75390625,\n",
       "        0.99609375, 0.96484375, 0.62890625, 0.58203125, 0.80859375,\n",
       "        0.98046875, 0.71875   , 0.39453125, 0.18359375, 0.02734375,\n",
       "        0.00390625, 0.        , 0.        , 0.        , 0.        ,\n",
       "        0.        , 0.        , 0.        ],\n",
       "       [0.        , 0.        , 0.        , 0.        , 0.        ,\n",
       "        0.        , 0.        , 0.        , 0.        , 0.05859375,\n",
       "        0.7421875 , 0.99609375, 0.99609375, 0.99609375, 0.99609375,\n",
       "        0.671875  , 0.0390625 , 0.        , 0.        , 0.        ,\n",
       "        0.        , 0.        , 0.        , 0.        , 0.        ,\n",
       "        0.        , 0.        , 0.        ],\n",
       "       [0.        , 0.        , 0.        , 0.        , 0.        ,\n",
       "        0.        , 0.        , 0.        , 0.        , 0.0703125 ,\n",
       "        0.73046875, 0.9921875 , 0.99609375, 0.99609375, 0.99609375,\n",
       "        0.3125    , 0.        , 0.        , 0.        , 0.        ,\n",
       "        0.        , 0.        , 0.        , 0.        , 0.        ,\n",
       "        0.        , 0.        , 0.        ],\n",
       "       [0.        , 0.        , 0.        , 0.        , 0.        ,\n",
       "        0.        , 0.        , 0.        , 0.        , 0.4609375 ,\n",
       "        0.9921875 , 0.92578125, 0.9765625 , 0.99609375, 0.8515625 ,\n",
       "        0.10546875, 0.        , 0.        , 0.        , 0.        ,\n",
       "        0.        , 0.        , 0.        , 0.        , 0.        ,\n",
       "        0.        , 0.        , 0.        ],\n",
       "       [0.        , 0.        , 0.        , 0.        , 0.        ,\n",
       "        0.        , 0.        , 0.        , 0.00390625, 0.703125  ,\n",
       "        0.99609375, 0.99609375, 0.98828125, 0.99609375, 0.546875  ,\n",
       "        0.        , 0.        , 0.        , 0.        , 0.        ,\n",
       "        0.        , 0.        , 0.        , 0.        , 0.        ,\n",
       "        0.        , 0.        , 0.        ],\n",
       "       [0.        , 0.        , 0.        , 0.        , 0.        ,\n",
       "        0.        , 0.        , 0.        , 0.015625  , 0.84375   ,\n",
       "        0.99609375, 0.99609375, 0.99609375, 0.86328125, 0.078125  ,\n",
       "        0.        , 0.        , 0.        , 0.        , 0.        ,\n",
       "        0.        , 0.        , 0.        , 0.        , 0.        ,\n",
       "        0.        , 0.        , 0.        ],\n",
       "       [0.        , 0.        , 0.        , 0.        , 0.        ,\n",
       "        0.        , 0.        , 0.        , 0.00390625, 0.703125  ,\n",
       "        0.99609375, 0.99609375, 0.99609375, 0.625     , 0.        ,\n",
       "        0.        , 0.        , 0.        , 0.        , 0.        ,\n",
       "        0.        , 0.        , 0.        , 0.        , 0.        ,\n",
       "        0.        , 0.        , 0.        ],\n",
       "       [0.        , 0.        , 0.        , 0.        , 0.        ,\n",
       "        0.        , 0.        , 0.        , 0.        , 0.2578125 ,\n",
       "        0.96875   , 0.99609375, 0.99609375, 0.94921875, 0.80078125,\n",
       "        0.68359375, 0.6015625 , 0.53515625, 0.26953125, 0.00390625,\n",
       "        0.        , 0.        , 0.        , 0.        , 0.        ,\n",
       "        0.        , 0.        , 0.        ],\n",
       "       [0.        , 0.        , 0.        , 0.        , 0.        ,\n",
       "        0.        , 0.        , 0.        , 0.        , 0.01171875,\n",
       "        0.7265625 , 0.99609375, 0.99609375, 0.99609375, 0.99609375,\n",
       "        0.99609375, 0.99609375, 0.99609375, 0.98046875, 0.43359375,\n",
       "        0.        , 0.        , 0.        , 0.        , 0.        ,\n",
       "        0.        , 0.        , 0.        ],\n",
       "       [0.        , 0.        , 0.        , 0.        , 0.        ,\n",
       "        0.        , 0.        , 0.        , 0.        , 0.        ,\n",
       "        0.05078125, 0.5234375 , 0.94140625, 0.99609375, 0.99609375,\n",
       "        0.99609375, 0.99609375, 0.99609375, 0.99609375, 0.81640625,\n",
       "        0.01953125, 0.        , 0.        , 0.        , 0.        ,\n",
       "        0.        , 0.        , 0.        ],\n",
       "       [0.        , 0.        , 0.        , 0.        , 0.        ,\n",
       "        0.        , 0.        , 0.        , 0.        , 0.        ,\n",
       "        0.        , 0.        , 0.14453125, 0.5       , 0.71875   ,\n",
       "        0.828125  , 0.8671875 , 0.953125  , 0.95703125, 0.47265625,\n",
       "        0.        , 0.        , 0.        , 0.        , 0.        ,\n",
       "        0.        , 0.        , 0.        ],\n",
       "       [0.        , 0.        , 0.        , 0.        , 0.        ,\n",
       "        0.        , 0.        , 0.        , 0.        , 0.        ,\n",
       "        0.        , 0.        , 0.        , 0.        , 0.        ,\n",
       "        0.        , 0.        , 0.        , 0.        , 0.        ,\n",
       "        0.        , 0.        , 0.        , 0.        , 0.        ,\n",
       "        0.        , 0.        , 0.        ],\n",
       "       [0.        , 0.        , 0.        , 0.        , 0.        ,\n",
       "        0.        , 0.        , 0.        , 0.        , 0.        ,\n",
       "        0.        , 0.        , 0.        , 0.        , 0.        ,\n",
       "        0.        , 0.        , 0.        , 0.        , 0.        ,\n",
       "        0.        , 0.        , 0.        , 0.        , 0.        ,\n",
       "        0.        , 0.        , 0.        ],\n",
       "       [0.        , 0.        , 0.        , 0.        , 0.        ,\n",
       "        0.        , 0.        , 0.        , 0.        , 0.        ,\n",
       "        0.        , 0.        , 0.        , 0.        , 0.        ,\n",
       "        0.        , 0.        , 0.        , 0.        , 0.        ,\n",
       "        0.        , 0.        , 0.        , 0.        , 0.        ,\n",
       "        0.        , 0.        , 0.        ],\n",
       "       [0.        , 0.        , 0.        , 0.        , 0.        ,\n",
       "        0.        , 0.        , 0.        , 0.        , 0.        ,\n",
       "        0.        , 0.        , 0.        , 0.        , 0.        ,\n",
       "        0.        , 0.        , 0.        , 0.        , 0.        ,\n",
       "        0.        , 0.        , 0.        , 0.        , 0.        ,\n",
       "        0.        , 0.        , 0.        ],\n",
       "       [0.        , 0.        , 0.        , 0.        , 0.        ,\n",
       "        0.        , 0.        , 0.        , 0.        , 0.        ,\n",
       "        0.        , 0.        , 0.        , 0.        , 0.        ,\n",
       "        0.        , 0.        , 0.        , 0.        , 0.        ,\n",
       "        0.        , 0.        , 0.        , 0.        , 0.        ,\n",
       "        0.        , 0.        , 0.        ]])"
      ]
     },
     "execution_count": 3,
     "metadata": {},
     "output_type": "execute_result"
    }
   ],
   "source": [
    "# Reshape the vector to matrix so we can look at the picture later (visualize first)\n",
    "npz_data['Xtrain'][0].reshape(28, -1)"
   ]
  },
  {
   "cell_type": "code",
   "execution_count": 4,
   "id": "26a94199",
   "metadata": {},
   "outputs": [
    {
     "name": "stdout",
     "output_type": "stream",
     "text": [
      "Visualize training example 1 with label 9\n"
     ]
    },
    {
     "data": {
      "image/png": "[encoded data removed]",
      "text/plain": [
       "<Figure size 288x288 with 1 Axes>"
      ]
     },
     "metadata": {
      "needs_background": "light"
     },
     "output_type": "display_data"
    },
    {
     "name": "stdout",
     "output_type": "stream",
     "text": [
      "Visualize training example 2 with label 3\n"
     ]
    },
    {
     "data": {
      "image/png": "[encoded data removed]",
      "text/plain": [
       "<Figure size 288x288 with 1 Axes>"
      ]
     },
     "metadata": {
      "needs_background": "light"
     },
     "output_type": "display_data"
    },
    {
     "name": "stdout",
     "output_type": "stream",
     "text": [
      "Visualize training example 3 with label 8\n"
     ]
    },
    {
     "data": {
      "image/png": "[encoded data removed]",
      "text/plain": [
       "<Figure size 288x288 with 1 Axes>"
      ]
     },
     "metadata": {
      "needs_background": "light"
     },
     "output_type": "display_data"
    },
    {
     "name": "stdout",
     "output_type": "stream",
     "text": [
      "Visualize training example 4 with label 8\n"
     ]
    },
    {
     "data": {
      "image/png": "[encoded data removed]",
      "text/plain": [
       "<Figure size 288x288 with 1 Axes>"
      ]
     },
     "metadata": {
      "needs_background": "light"
     },
     "output_type": "display_data"
    },
    {
     "name": "stdout",
     "output_type": "stream",
     "text": [
      "Visualize training example 5 with label 2\n"
     ]
    },
    {
     "data": {
      "image/png": "[encoded data removed]",
      "text/plain": [
       "<Figure size 288x288 with 1 Axes>"
      ]
     },
     "metadata": {
      "needs_background": "light"
     },
     "output_type": "display_data"
    },
    {
     "name": "stdout",
     "output_type": "stream",
     "text": [
      "Visualize training example 6 with label 0\n"
     ]
    },
    {
     "data": {
      "image/png": "[encoded data removed]",
      "text/plain": [
       "<Figure size 288x288 with 1 Axes>"
      ]
     },
     "metadata": {
      "needs_background": "light"
     },
     "output_type": "display_data"
    },
    {
     "name": "stdout",
     "output_type": "stream",
     "text": [
      "Visualize training example 7 with label 7\n"
     ]
    },
    {
     "data": {
      "image/png": "[encoded data removed]",
      "text/plain": [
       "<Figure size 288x288 with 1 Axes>"
      ]
     },
     "metadata": {
      "needs_background": "light"
     },
     "output_type": "display_data"
    },
    {
     "name": "stdout",
     "output_type": "stream",
     "text": [
      "Visualize training example 8 with label 1\n"
     ]
    },
    {
     "data": {
      "image/png": "[encoded data removed]",
      "text/plain": [
       "<Figure size 288x288 with 1 Axes>"
      ]
     },
     "metadata": {
      "needs_background": "light"
     },
     "output_type": "display_data"
    },
    {
     "name": "stdout",
     "output_type": "stream",
     "text": [
      "Visualize training example 9 with label 9\n"
     ]
    },
    {
     "data": {
      "image/png": "[encoded data removed]",
      "text/plain": [
       "<Figure size 288x288 with 1 Axes>"
      ]
     },
     "metadata": {
      "needs_background": "light"
     },
     "output_type": "display_data"
    },
    {
     "name": "stdout",
     "output_type": "stream",
     "text": [
      "Visualize training example 10 with label 5\n"
     ]
    },
    {
     "data": {
      "image/png": "[encoded data removed]",
      "text/plain": [
       "<Figure size 288x288 with 1 Axes>"
      ]
     },
     "metadata": {
      "needs_background": "light"
     },
     "output_type": "display_data"
    }
   ],
   "source": [
    "# Visualize image examples with corresponding (gold) label\n",
    "for i in range(10):\n",
    "    print('Visualize training example {} with label {}'.format(i+1, npz_data['ytrain'][i]))\n",
    "    plt.matshow(npz_data['Xtrain'][i].reshape(28, -1))\n",
    "    plt.show()"
   ]
  },
  {
   "cell_type": "code",
   "execution_count": 5,
   "id": "613f1811",
   "metadata": {},
   "outputs": [
    {
     "name": "stdout",
     "output_type": "stream",
     "text": [
      "9\n",
      "3\n",
      "8\n",
      "8\n",
      "2\n",
      "0\n",
      "7\n",
      "1\n",
      "9\n",
      "5\n"
     ]
    }
   ],
   "source": [
    "# Visualize label examples.\n",
    "for i in range(10):\n",
    "    print(npz_data['ytrain'][i])"
   ]
  },
  {
   "cell_type": "code",
   "execution_count": 6,
   "id": "1253362a",
   "metadata": {},
   "outputs": [
    {
     "data": {
      "text/plain": [
       "['relu', 'relu', 'tanh', 'tanh']"
      ]
     },
     "execution_count": 6,
     "metadata": {},
     "output_type": "execute_result"
    }
   ],
   "source": [
    "layers_array = ['relu', 'relu', 'tanh', 'tanh']\n",
    "[x for x in layers_array]"
   ]
  },
  {
   "cell_type": "code",
   "execution_count": null,
   "id": "a15215ac",
   "metadata": {},
   "outputs": [],
   "source": []
  },
  {
   "cell_type": "code",
   "execution_count": null,
   "id": "246016e0",
   "metadata": {},
   "outputs": [],
   "source": []
  }
 ],
 "metadata": {
  "kernelspec": {
   "display_name": "Python 3 (ipykernel)",
   "language": "python",
   "name": "python3"
  },
  "language_info": {
   "codemirror_mode": {
    "name": "ipython",
    "version": 3
   },
   "file_extension": ".py",
   "mimetype": "text/x-python",
   "name": "python",
   "nbconvert_exporter": "python",
   "pygments_lexer": "ipython3",
   "version": "3.10.4"
  },
  "vscode": {
   "interpreter": {
    "hash": "df9854f134824b4a9d20392ff48a74b409a03849d7d2c715aea2797dbd12afaf"
   }
  }
 },
 "nbformat": 4,
 "nbformat_minor": 5
}
